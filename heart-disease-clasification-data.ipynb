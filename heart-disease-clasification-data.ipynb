{
 "cells": [
  {
   "cell_type": "markdown",
   "metadata": {},
   "source": [
    "Deklarasi Library"
   ]
  },
  {
   "cell_type": "code",
   "execution_count": null,
   "metadata": {},
   "outputs": [],
   "source": [
    "#Aditya Allaam\n",
    "#NIM 11190910000084. \n",
    "'''-------------'''\n",
    "#Deklarasi library.\n",
    "\n",
    "import pandas as pd #-> pada kasus ini dilakukan untuk input data.\n",
    "import matplotlib.pyplot as plt #-> pada kasus ini dilakukan visualisasi data.\n",
    "import seaborn as sns # -> pada kasus ini dilakukan visualisasi pada data."
   ]
  },
  {
   "cell_type": "markdown",
   "metadata": {},
   "source": [
    "Input Dataset"
   ]
  },
  {
   "cell_type": "code",
   "execution_count": null,
   "metadata": {},
   "outputs": [],
   "source": [
    "#Deklarasi dataset.\n",
    "#Penjabaran dari dataset. -> memperdiksi kemungkinan penyakit hari dengan 11 fitur yang ada. \n",
    "'''\n",
    "    RestingECG : Resting electrocardiogram\n",
    "    MaxHR : Maximum heart achieved [Numeric value between 60 and 202]\n",
    "    #-----------------------------------------------------------------------\n",
    "    HeartDisease : [1:heart disease, 0:Normal]\n",
    "    FastingBS : Fasting blood sugar[1l if fastingBS > 120mg/dl, 0:otherwise]\n",
    "    Sex = [M, F]\n",
    "    RestingECG = [Normal, ST, LVH]\n",
    "    ST_Slope = [UP, Flat]\n",
    "'''\n",
    "\n",
    "df_data = pd.read_csv(\"C:/Users/adity/Documents/Kuliah/Semester 5/Big Data/UAS/heart.csv\")\n",
    "df_data.head()"
   ]
  },
  {
   "cell_type": "code",
   "execution_count": null,
   "metadata": {},
   "outputs": [],
   "source": [
    "#Melihat informasi dari data \n",
    "df_data.info()"
   ]
  },
  {
   "cell_type": "code",
   "execution_count": null,
   "metadata": {},
   "outputs": [],
   "source": [
    "#Cek nilai dari missing value \n",
    "mv = df_data.isnull()\n",
    "mv.sum()\n"
   ]
  },
  {
   "cell_type": "code",
   "execution_count": null,
   "metadata": {},
   "outputs": [],
   "source": [
    "df_data.describe()"
   ]
  },
  {
   "cell_type": "markdown",
   "metadata": {},
   "source": [
    "EDA (Eksplorisasi Data Analis)"
   ]
  },
  {
   "cell_type": "code",
   "execution_count": null,
   "metadata": {},
   "outputs": [],
   "source": [
    "'''\n",
    "Mengubah bentuk dari dataframe.\n",
    "\n",
    "arr_restingBP = df_data['RestingBP'].to_numpy()\n",
    "arr_restingBP = pd.DataFrame(arr_restingBP)\n",
    "\n",
    "arr_Cholesterol = df_data['Cholesterol'].to_numpy()\n",
    "arr_Cholesterol = pd.DataFrame(arr_Cholesterol)\n",
    "\n",
    "arr_MaxHR = df_data['MaxHR'].to_numpy()\n",
    "arr_MaxHR = pd.DataFrame(arr_MaxHR)\n",
    "'''"
   ]
  },
  {
   "cell_type": "code",
   "execution_count": null,
   "metadata": {},
   "outputs": [],
   "source": [
    "#Melihat Penyebaran data pada numerik kolom.\n",
    "'''\n",
    "def vz_barchart(x):\n",
    "    fig, ax = plt.subplots(figsize=(10, 6))\n",
    "    x.plot.kde(ax=ax, legend=False)\n",
    "    x.plot.hist(density = True, ax=ax)\n",
    "    ax.grid(axis = 'y')\n",
    "    ax.grid(axis = 'x')\n",
    "\n",
    "#plt.subplots(2,2,1)\n",
    "vz_barchart(df_data['RestingBP'])\n",
    "plt.title('Distribusi Data Resting BP')\n",
    "\n",
    "#plt.subplots(2,2,2)\n",
    "vz_barchart(df_data['Cholesterol'])\n",
    "plt.title('Distibusi Data Cholestrol')\n",
    "\n",
    "#plt.subplots(2,2,4)\n",
    "vz_barchart(df_data['MaxHR'])\n",
    "plt.title('Dsitribusi Data MaxHR')\n",
    "\n",
    "vz_barchart(df_data['FastingBS'])\n",
    "plt.title('Dsitribusi Data FastingBS')\n",
    "\n",
    "vz_barchart(df_data['Oldpeak'])\n",
    "plt.title('Dsitribusi Data Oldpeak')\n",
    "\n",
    "vz_barchart(df_data['HeartDisease'])\n",
    "plt.title('Dsitribusi Data Heart Disease')\n",
    "'''"
   ]
  },
  {
   "cell_type": "code",
   "execution_count": null,
   "metadata": {},
   "outputs": [],
   "source": [
    "#Membuat histogram data\n",
    "import seaborn as sns\n",
    "\n",
    "fig, axs = plt.subplots(2,3, figsize=(15, 10))\n",
    "\n",
    "sns.histplot(data = df_data, x='RestingBP', color='orange', kde =True, ax = axs[0,0])\n",
    "sns.histplot(data = df_data, x='Cholesterol', color='orange', kde =True, ax = axs[0,1])\n",
    "sns.histplot(data = df_data, x='MaxHR', color='orange', kde =True, ax = axs[0,2])\n",
    "sns.histplot(data = df_data, x='FastingBS', color='orange', kde =True, ax = axs[1,0])\n",
    "sns.histplot(data = df_data, x='Oldpeak', color='orange', kde =True, ax = axs[1,1])\n",
    "sns.histplot(data = df_data, x='HeartDisease', color='orange', kde =True, ax = axs[1,2])"
   ]
  },
  {
   "cell_type": "code",
   "execution_count": null,
   "metadata": {},
   "outputs": [],
   "source": [
    "'''\n",
    "#Membuat visualisasi boxplot. \n",
    "def vz_boxplot(x, y):\n",
    "    plt.figure(figsize=(10, 6))\n",
    "    ax = sns.boxplot(x, y, data = df_data)\n",
    "    plt.setp(ax.artists, alpha=.5, linewidth=2, edgecolor=\"k\")\n",
    "    plt.xticks(rotation=45)\n",
    "'''\n",
    "    #ada 2 kolom numerik yang tidak divisualisasikan boxplot, \n",
    "    #yang mana karena memiliki 2 data saja tidak terdapat penyebaran data.\n",
    "'''\n",
    "vz_boxplot(x = 'HeartDisease', y = 'RestingBP')\n",
    "vz_boxplot(x = 'HeartDisease', y = 'Cholesterol')\n",
    "vz_boxplot(x = 'HeartDisease', y = 'MaxHR')\n",
    "vz_boxplot(x = 'HeartDisease', y = 'Oldpeak')\n",
    "'''"
   ]
  },
  {
   "cell_type": "code",
   "execution_count": null,
   "metadata": {},
   "outputs": [],
   "source": [
    "fig, axs = plt.subplots(2,2, figsize=(15, 10))\n",
    "\n",
    "sns.boxplot(data = df_data, x='HeartDisease', y='RestingBP', ax = axs[0,0])\n",
    "sns.boxplot(data = df_data, x='HeartDisease', y='Cholesterol', ax = axs[0,1])\n",
    "sns.boxplot(data = df_data, x='HeartDisease', y='MaxHR', ax = axs[1,0])\n",
    "sns.boxplot(data = df_data, x='HeartDisease', y='Oldpeak', ax = axs[1,1])"
   ]
  },
  {
   "cell_type": "code",
   "execution_count": null,
   "metadata": {},
   "outputs": [],
   "source": [
    "'''\n",
    "    Menghapus nilai outlier akan mempengaruhi bentuk pada histogram data.\n",
    "'''"
   ]
  },
  {
   "cell_type": "code",
   "execution_count": null,
   "metadata": {},
   "outputs": [],
   "source": [
    "#Melihat Penyebaran Data String.\n",
    "#Mentotalkan nilai untuk data string.\n",
    "#--------------------------------------\n",
    "df_CPT = df_data['ChestPainType'].value_counts()\n",
    "df_CPT = pd.DataFrame(df_CPT).reset_index()\n",
    "df_CPT = df_CPT.rename({'index' : 'ChestPainType', 'ChestPainType' : 'Total'}, axis = 1)\n",
    "\n",
    "df_ECG = df_data['RestingECG'].value_counts()\n",
    "df_ECG = pd.DataFrame(df_ECG).reset_index()\n",
    "df_ECG = df_ECG.rename({'index' : 'RestingECG', 'RestingECG' : 'Total'}, axis = 1)\n",
    "df_ECG\n",
    "\n",
    "df_angina = df_data['ExerciseAngina'].value_counts()\n",
    "df_angina = pd.DataFrame(df_angina).reset_index()\n",
    "df_angina = df_angina.rename({'index' : 'ExerciseAngina', 'ExerciseAngina' : 'Total'}, axis = 1)\n",
    "\n",
    "df_slope = df_data['ST_Slope'].value_counts()\n",
    "df_slope = pd.DataFrame(df_slope).reset_index()\n",
    "df_slope = df_slope.rename({'index' : 'ST_Slope', 'ST_Slope' : 'Total'}, axis = 1)"
   ]
  },
  {
   "cell_type": "code",
   "execution_count": null,
   "metadata": {},
   "outputs": [],
   "source": [
    "#Melakukan visualisasi data.\n",
    "def vz_bar_chart(x, height):\n",
    "    barplot = plt.bar(x, height, color=['#EF4444', '#FAA31B', '#009f75', '#394BA0'])\n",
    "    for bar in barplot:\n",
    "        yval = bar.get_height()\n",
    "        plt.text(bar.get_x() + bar.get_width()/2.0, yval, int(yval), va='bottom', fontweight='bold', fontsize='8')\n",
    "    plt.grid(b = True, color ='grey',linestyle ='-.', linewidth = 0.5,alpha = 0.2)\n",
    "    plt.xticks(rotation = 25)\n",
    "\n",
    "plt.figure(figsize = (15,13))\n",
    "\n",
    "#Visualisasi data 1 - Agreggasi usia\n",
    "plt.subplot(2,2,1)\n",
    "vz_bar_chart(df_CPT['ChestPainType'], df_CPT['Total'])\n",
    "plt.title(\"ChestPainType\", fontsize= 8, fontweight='bold')\n",
    "plt.xlabel(\"Tipe Penyakit\")\n",
    "plt.ylabel(\"Total\")\n",
    "\n",
    "plt.subplot(2,2,2)\n",
    "vz_bar_chart(df_ECG['RestingECG'], df_ECG['Total'])\n",
    "plt.title(\"Resting ECG\", fontsize= 8, fontweight='bold')\n",
    "plt.xlabel(\"Resting ECG\")\n",
    "plt.ylabel(\"Total\")\n",
    "\n",
    "plt.subplot(2,2,3)\n",
    "vz_bar_chart(df_angina['ExerciseAngina'], df_angina['Total'])\n",
    "plt.title(\"Exercise Angina\", fontsize= 8, fontweight='bold')\n",
    "plt.xlabel(\"Excercise Angina\")\n",
    "plt.ylabel(\"Total\")\n",
    "\n",
    "plt.subplot(2,2,4)\n",
    "vz_bar_chart(df_slope['ST_Slope'], df_slope['Total'])\n",
    "plt.title(\"ST_Slope\", fontsize= 8, fontweight='bold')\n",
    "plt.xlabel(\"ST_Slope\")\n",
    "plt.ylabel(\"Total\")"
   ]
  },
  {
   "cell_type": "code",
   "execution_count": null,
   "metadata": {},
   "outputs": [],
   "source": [
    "#Melihat nilai korelasi antar variabel\n",
    "#Membuat heatmap.\n",
    "\n",
    "plt.figure(figsize=(6,3), dpi=150)\n",
    "sns.set(font_scale=0.7)\n",
    "heatmap = sns.heatmap(df_data.corr(), annot=True, cmap='Blues', annot_kws={'size': 8})\n",
    "heatmap.set_title('Nilai Korelasi Antar data', fontdict={'fontsize':8, 'fontweight':'bold'})"
   ]
  },
  {
   "cell_type": "code",
   "execution_count": null,
   "metadata": {},
   "outputs": [],
   "source": [
    "#Melihat penybaran data dengan scatter plot.\n",
    "'''\n",
    "scatter_data = sns.pairplot(df_data, hue=\"HeartDisease\", corner=True)\n",
    "'''"
   ]
  },
  {
   "cell_type": "code",
   "execution_count": null,
   "metadata": {},
   "outputs": [],
   "source": [
    "#Mengubah nilai string menjadi numerik dalam bentuk kategori.\n",
    "df_data = pd.get_dummies(df_data)\n",
    "df_data.head()"
   ]
  },
  {
   "cell_type": "markdown",
   "metadata": {},
   "source": [
    "Pra-proses Data"
   ]
  },
  {
   "cell_type": "code",
   "execution_count": null,
   "metadata": {},
   "outputs": [],
   "source": [
    "'''\n",
    "    Tentukan klasifikasi yang akan dilakukan sebelum praproses data.\n",
    "    Klasifikasi pertama dengan SVM, yang mana data akan dilakukan normaliasasi, \n",
    "    dilanjut dengan pemisahan data training dan testing.\n",
    "'''\n",
    "'''\n",
    "    Normalisasi bagus dilakukan jika penyebaran data tidak berbentuk bell curve.\n",
    "'''\n",
    "#https://asnugroho.wordpress.com/2008/09/12/data-scaling-dalam-svm/\n",
    "#https://www.kaggle.com/gauravduttakiit/heart-failure-prediction-svm\n",
    "#https://www.kaggle.com/arminfuchs/heart-failure-nn-cv-robust-86-accuracy\n",
    "#https://www.kaggle.com/rajeevnair676/svm-hyperparameter-tuning\n",
    "#https://towardsai.net/p/data-science/how-when-and-why-should-you-normalize-standardize-rescale-your-data-3f083def38ff\n",
    "#https://www.statology.org/k-fold-cross-validation-in-python/\n",
    "#https://www.kaggle.com/arezoodahesh/heart-failure-prediction-with-ensemble-models"
   ]
  },
  {
   "cell_type": "code",
   "execution_count": null,
   "metadata": {},
   "outputs": [],
   "source": [
    "#Melakukan normalisasi pada data.\n",
    "from sklearn.preprocessing import MinMaxScaler\n",
    "from sklearn import preprocessing\n",
    "\n",
    "scaler = MinMaxScaler(feature_range = (0, 1))\n",
    "data_column = df_data.columns\n",
    "sc_data = scaler.fit_transform(df_data)\n",
    "sc_data = pd.DataFrame(sc_data, columns=data_column)\n",
    "sc_data.head()\n"
   ]
  },
  {
   "cell_type": "code",
   "execution_count": null,
   "metadata": {},
   "outputs": [],
   "source": [
    "#Melakukan split data\n",
    "#--------------------\n",
    "from sklearn.model_selection import train_test_split\n",
    "\n",
    "X = sc_data.drop('HeartDisease', axis = 1)\n",
    "y = sc_data['HeartDisease']\n",
    "X_train, X_test, y_train, y_test = train_test_split(X, y, test_size=0.2, random_state=123)"
   ]
  },
  {
   "cell_type": "code",
   "execution_count": null,
   "metadata": {},
   "outputs": [],
   "source": [
    "#Melakukan scaling data split validasi dengan piplene\n",
    "from sklearn.pipeline import Pipeline\n",
    "from sklearn.preprocessing import StandardScaler\n",
    "\n",
    "pipeline = Pipeline([\n",
    "            ('std_scaler',StandardScaler()),\n",
    "                    ])\n",
    "scaled_X_train = pipeline.fit_transform(X_train)\n",
    "scaled_X_test = pipeline.transform(X_test)"
   ]
  },
  {
   "cell_type": "markdown",
   "metadata": {},
   "source": [
    "Klasifikasi Data(SVM)- Split Validasi"
   ]
  },
  {
   "cell_type": "code",
   "execution_count": null,
   "metadata": {},
   "outputs": [],
   "source": [
    "#Melakukan perhitungan klasifikasi dengan split validasi\n",
    "#-------------------------------------------------------\n",
    "from sklearn.metrics import accuracy_score, plot_confusion_matrix, classification_report\n",
    "from sklearn.svm import SVC\n",
    "\n",
    "model_svc = SVC()\n",
    "model_svc.fit(scaled_X_train, y_train)\n",
    "\n",
    "pred_svc = model_svc.predict(scaled_X_test)\n",
    "accuracy_score(y_test,pred_svc)"
   ]
  },
  {
   "cell_type": "code",
   "execution_count": null,
   "metadata": {},
   "outputs": [],
   "source": [
    "print(classification_report(y_test,pred_svc))"
   ]
  },
  {
   "cell_type": "code",
   "execution_count": null,
   "metadata": {},
   "outputs": [],
   "source": [
    "#Melakukan visualisasi data dengan split validasi"
   ]
  },
  {
   "cell_type": "markdown",
   "metadata": {},
   "source": [
    "Klasifikasi(Random Forest) - SplitValidasi"
   ]
  },
  {
   "cell_type": "code",
   "execution_count": null,
   "metadata": {},
   "outputs": [],
   "source": [
    "#Melakukan klasifikasi Random Forest\n",
    "from sklearn.ensemble import RandomForestClassifier\n",
    "from sklearn import metrics\n",
    "\n",
    "clf = RandomForestClassifier(n_estimators = 100)\n",
    "clf.fit(scaled_X_train, y_train)\n",
    "y_pred=clf.predict(scaled_X_test)\n",
    "\n",
    "print(\"Accuracy:\",metrics.accuracy_score(y_test, y_pred))"
   ]
  },
  {
   "cell_type": "code",
   "execution_count": null,
   "metadata": {},
   "outputs": [],
   "source": [
    "print(classification_report(y_test, y_pred))"
   ]
  },
  {
   "cell_type": "markdown",
   "metadata": {},
   "source": [
    "Pra-proses KFold"
   ]
  },
  {
   "cell_type": "code",
   "execution_count": null,
   "metadata": {},
   "outputs": [],
   "source": [
    "#Melakukan split data dengan menggunakan k-fold.\n",
    "#-----------------------------------------------\n",
    "from sklearn.model_selection import KFold\n",
    "from sklearn.model_selection import cross_val_score\n",
    "from sklearn.linear_model import LinearRegression\n",
    "\n",
    "kf_data = KFold(n_splits=10, random_state = 1, shuffle=True)\n",
    "for train_index, test_index in kf_data.split(X, y):\n",
    "    X_train, X_test, y_train, y_test =  X.iloc[train_index], X.iloc[test_index], y.iloc[train_index], y.iloc[test_index]"
   ]
  },
  {
   "cell_type": "code",
   "execution_count": null,
   "metadata": {},
   "outputs": [],
   "source": [
    "#Melakukan scaling data split validasi dengan piplene\n",
    "from sklearn.pipeline import Pipeline\n",
    "from sklearn.preprocessing import StandardScaler\n",
    "\n",
    "pipeline = Pipeline([\n",
    "            ('std_scaler',StandardScaler()),\n",
    "                    ])\n",
    "scaled_X_train = pipeline.fit_transform(X_train)\n",
    "scaled_X_test = pipeline.transform(X_test)"
   ]
  },
  {
   "cell_type": "markdown",
   "metadata": {},
   "source": [
    "Klasifikasi Data(SVM) - KFold"
   ]
  },
  {
   "cell_type": "code",
   "execution_count": null,
   "metadata": {},
   "outputs": [],
   "source": [
    "#Melakukan perhitungan klasifikasi dengan split validasi\n",
    "#-------------------------------------------------------\n",
    "from sklearn.metrics import accuracy_score, plot_confusion_matrix, classification_report\n",
    "from sklearn.svm import SVC\n",
    "\n",
    "model_svc = SVC()\n",
    "model_svc.fit(scaled_X_train, y_train)\n",
    "\n",
    "pred_svc = model_svc.predict(scaled_X_test)\n",
    "accuracy_score(y_test,pred_svc)"
   ]
  },
  {
   "cell_type": "code",
   "execution_count": null,
   "metadata": {},
   "outputs": [],
   "source": [
    "print(classification_report(y_test,pred_svc))"
   ]
  },
  {
   "cell_type": "code",
   "execution_count": null,
   "metadata": {},
   "outputs": [],
   "source": [
    "#Melakukan Visualisasi Data"
   ]
  },
  {
   "cell_type": "markdown",
   "metadata": {},
   "source": [
    "Klasifikasi data(Random Forest) - KFold"
   ]
  },
  {
   "cell_type": "code",
   "execution_count": null,
   "metadata": {},
   "outputs": [],
   "source": [
    "#Melakukan klasifikasi data\n",
    "clf = RandomForestClassifier(n_estimators = 100)\n",
    "clf.fit(scaled_X_train, y_train)\n",
    "y_pred=clf.predict(scaled_X_test)\n",
    "\n",
    "print(\"Accuracy:\",metrics.accuracy_score(y_test, y_pred))"
   ]
  },
  {
   "cell_type": "code",
   "execution_count": null,
   "metadata": {},
   "outputs": [],
   "source": [
    "print(classification_report(y_test, y_pred))"
   ]
  }
 ],
 "metadata": {
  "interpreter": {
   "hash": "2db524e06e9f5f4ffedc911c917cb75e12dbc923643829bf417064a77eb14d37"
  },
  "kernelspec": {
   "display_name": "Python 3.8.5 64-bit",
   "language": "python",
   "name": "python3"
  },
  "language_info": {
   "codemirror_mode": {
    "name": "ipython",
    "version": 3
   },
   "file_extension": ".py",
   "mimetype": "text/x-python",
   "name": "python",
   "nbconvert_exporter": "python",
   "pygments_lexer": "ipython3",
   "version": "3.8.5"
  },
  "orig_nbformat": 4
 },
 "nbformat": 4,
 "nbformat_minor": 2
}
